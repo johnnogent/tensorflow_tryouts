{
 "cells": [
  {
   "cell_type": "code",
   "execution_count": 1,
   "metadata": {
    "collapsed": true
   },
   "outputs": [],
   "source": [
    "import tensorflow as tf\n",
    "import numpy as np\n",
    "import pandas as pd\n",
    "from scipy import stats\n",
    "import matplotlib.pyplot as plt\n",
    "import matplotlib.font_manager\n",
    "\n",
    "from sklearn.neighbors import LocalOutlierFactor\n",
    "from sklearn.model_selection import train_test_split\n",
    "from sklearn import preprocessing"
   ]
  },
  {
   "cell_type": "code",
   "execution_count": 2,
   "metadata": {
    "collapsed": true
   },
   "outputs": [],
   "source": [
    "data = pd.read_csv('./lending-club-data.csv', low_memory=False)"
   ]
  },
  {
   "cell_type": "code",
   "execution_count": 3,
   "metadata": {},
   "outputs": [
    {
     "name": "stdout",
     "output_type": "stream",
     "text": [
      "Index(['id', 'member_id', 'loan_amnt', 'funded_amnt', 'funded_amnt_inv',\n",
      "       'term', 'int_rate', 'installment', 'grade', 'sub_grade', 'emp_title',\n",
      "       'emp_length', 'home_ownership', 'annual_inc', 'is_inc_v', 'issue_d',\n",
      "       'loan_status', 'pymnt_plan', 'url', 'desc', 'purpose', 'title',\n",
      "       'zip_code', 'addr_state', 'dti', 'delinq_2yrs', 'earliest_cr_line',\n",
      "       'inq_last_6mths', 'mths_since_last_delinq', 'mths_since_last_record',\n",
      "       'open_acc', 'pub_rec', 'revol_bal', 'revol_util', 'total_acc',\n",
      "       'initial_list_status', 'out_prncp', 'out_prncp_inv', 'total_pymnt',\n",
      "       'total_pymnt_inv', 'total_rec_prncp', 'total_rec_int',\n",
      "       'total_rec_late_fee', 'recoveries', 'collection_recovery_fee',\n",
      "       'last_pymnt_d', 'last_pymnt_amnt', 'next_pymnt_d', 'last_credit_pull_d',\n",
      "       'collections_12_mths_ex_med', 'mths_since_last_major_derog',\n",
      "       'policy_code', 'not_compliant', 'status', 'inactive_loans', 'bad_loans',\n",
      "       'emp_length_num', 'grade_num', 'sub_grade_num', 'delinq_2yrs_zero',\n",
      "       'pub_rec_zero', 'collections_12_mths_zero', 'short_emp',\n",
      "       'payment_inc_ratio', 'final_d', 'last_delinq_none', 'last_record_none',\n",
      "       'last_major_derog_none'],\n",
      "      dtype='object')\n"
     ]
    }
   ],
   "source": [
    "print(data.columns)"
   ]
  },
  {
   "cell_type": "code",
   "execution_count": 4,
   "metadata": {
    "collapsed": true
   },
   "outputs": [],
   "source": [
    "col_subset = ['annual_inc','loan_amnt']\n",
    "data_clean  = data[col_subset].dropna()\n",
    "data_clean = data_clean.sample(n=1000)"
   ]
  },
  {
   "cell_type": "code",
   "execution_count": 5,
   "metadata": {
    "collapsed": true
   },
   "outputs": [],
   "source": [
    "X1 = data_clean['annual_inc'].tolist()\n",
    "X2 = data_clean['loan_amnt'].tolist()\n",
    "\n",
    "X = np.column_stack((X1, X2))\n",
    "X_scaled = preprocessing.scale(X)\n"
   ]
  },
  {
   "cell_type": "code",
   "execution_count": 7,
   "metadata": {},
   "outputs": [],
   "source": [
    "# fit the model\n",
    "clf = LocalOutlierFactor(n_neighbors=200)\n",
    "y_pred = clf.fit_predict(X_scaled)\n",
    "# y_pred_outliers = y_pred[200:]\n",
    "\n",
    "maxgrille = np.amax(X_scaled)\n",
    "mingrille = np.amin(X_scaled)\n",
    "diffgrille = maxgrille - mingrille\n",
    "maxgrille += 0.05 * diffgrille\n",
    "mingrille -= 0.05 * diffgrille\n",
    "\n",
    "# plot the level sets of the decision function\n",
    "xx, yy = np.meshgrid(np.linspace(mingrille, maxgrille, 50), np.linspace(mingrille, maxgrille, 50))\n",
    "Z = clf._decision_function(np.c_[xx.ravel(), yy.ravel()])\n",
    "Z = Z.reshape(xx.shape)\n",
    "\n",
    "plt.title(\"Local Outlier Factor (LOF)\")\n",
    "plt.contourf(xx, yy, Z, cmap=plt.cm.Blues_r)\n",
    "\n",
    "X_pos = []\n",
    "X_neg = []\n",
    "for i in range(len(X_scaled)):\n",
    "    if y_pred[i] == 1:\n",
    "        X_pos.append(X_scaled[i])\n",
    "    else:\n",
    "        X_neg.append(X_scaled[i])\n"
   ]
  },
  {
   "cell_type": "code",
   "execution_count": 8,
   "metadata": {},
   "outputs": [
    {
     "name": "stdout",
     "output_type": "stream",
     "text": [
      "neg =  100\n",
      "pos =  900\n"
     ]
    },
    {
     "data": {
      "image/png": "[encoded data removed]",
      "text/plain": [
       "<matplotlib.figure.Figure at 0x7f6d0f8dc780>"
      ]
     },
     "metadata": {},
     "output_type": "display_data"
    }
   ],
   "source": [
    "taillepos = len(X_pos)\n",
    "tailleneg = len(X_neg)\n",
    "print(\"neg = \", tailleneg)\n",
    "print(\"pos = \", taillepos)\n",
    "X_pos = np.array(X_pos)\n",
    "X_neg = np.array(X_neg)\n",
    "\n",
    "a = plt.scatter(X_pos[:, 0], X_pos[:, 1], c='white', edgecolor='k', s=20)\n",
    "b = plt.scatter(X_neg[:, 0], X_neg[:, 1], c='black', edgecolor='k', s=20)\n",
    "plt.axis('tight')\n",
    "plt.xlim((mingrille, maxgrille))\n",
    "plt.ylim((mingrille, maxgrille))\n",
    "plt.legend([a, b],\n",
    "           [\"normal observations\",\n",
    "            \"abnormal observations\"],\n",
    "           loc=\"upper left\")\n",
    "plt.show()"
   ]
  },
  {
   "cell_type": "code",
   "execution_count": null,
   "metadata": {
    "collapsed": true
   },
   "outputs": [],
   "source": []
  }
 ],
 "metadata": {
  "kernelspec": {
   "display_name": "Python 3",
   "language": "python",
   "name": "python3"
  },
  "language_info": {
   "codemirror_mode": {
    "name": "ipython",
    "version": 3
   },
   "file_extension": ".py",
   "mimetype": "text/x-python",
   "name": "python",
   "nbconvert_exporter": "python",
   "pygments_lexer": "ipython3",
   "version": "3.6.2"
  }
 },
 "nbformat": 4,
 "nbformat_minor": 2
}
