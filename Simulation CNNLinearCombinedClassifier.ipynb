{
 "cells": [
  {
   "cell_type": "code",
   "execution_count": 1,
   "metadata": {
    "collapsed": true
   },
   "outputs": [],
   "source": [
    "#Importing the necessary packages\n",
    "import tensorflow as tf #This code is with Python3.4 Tensorflow1.0\n",
    "import numpy as np\n",
    "import pandas as pd\n",
    "from sklearn.model_selection import train_test_split\n",
    "import datetime"
   ]
  },
  {
   "cell_type": "code",
   "execution_count": 2,
   "metadata": {
    "collapsed": true
   },
   "outputs": [],
   "source": [
    "tf.logging.set_verbosity(tf.logging.ERROR)"
   ]
  },
  {
   "cell_type": "code",
   "execution_count": 3,
   "metadata": {
    "collapsed": true
   },
   "outputs": [],
   "source": [
    "#Loading the data\n",
    "#This is 2015 file\n",
    "data = pd.read_csv('./LoanStats3d.csv', low_memory=False)"
   ]
  },
  {
   "cell_type": "code",
   "execution_count": 5,
   "metadata": {
    "collapsed": false
   },
   "outputs": [
    {
     "data": {
      "text/plain": [
       "421095"
      ]
     },
     "execution_count": 5,
     "metadata": {},
     "output_type": "execute_result"
    }
   ],
   "source": [
    "len(data) #421095"
   ]
  },
  {
   "cell_type": "code",
   "execution_count": 6,
   "metadata": {
    "collapsed": false
   },
   "outputs": [
    {
     "data": {
      "text/plain": [
       "array(['Current', 'Fully Paid', 'Default', 'Charged Off',\n",
       "       'Late (16-30 days)', 'Late (31-120 days)', 'In Grace Period'], dtype=object)"
      ]
     },
     "execution_count": 6,
     "metadata": {},
     "output_type": "execute_result"
    }
   ],
   "source": [
    "data['loan_status'].unique()"
   ]
  },
  {
   "cell_type": "code",
   "execution_count": 7,
   "metadata": {
    "collapsed": true
   },
   "outputs": [],
   "source": [
    "data['safe_loans'] = data['loan_status'].apply(lambda x : 0 \n",
    "                                               if x in [\"Charged Off \",\n",
    "                                                        \"Default\",\n",
    "                                                        \"In Grace Period\", \n",
    "                                                        \"Late (16-30 days)\",\n",
    "                                                        \"Late (31-120 days)\"] \n",
    "                                               else +1)\n",
    "#create two ratios\n",
    "data['debt_ratio'] = data['loan_amnt']/(data['annual_inc'])\n",
    "data['current_ratio'] = data['funded_amnt']/(data['loan_amnt'])"
   ]
  },
  {
   "cell_type": "code",
   "execution_count": 8,
   "metadata": {
    "collapsed": false
   },
   "outputs": [],
   "source": [
    "col_subset = ['grade',                     # grade of the loan\n",
    "            'sub_grade',                 # sub-grade of the loan\n",
    "            'emp_length',                # number of years of employment\n",
    "            'home_ownership',            # home_ownership status: own, mortgage or rent\n",
    "            'dti',                       # debt to income ratio\n",
    "            'purpose',                   # the purpose of the loan\n",
    "            'term',                      # the term of the loan\n",
    "            'revol_util',                # percent of available credit being used\n",
    "            'total_rec_late_fee',        # total late fees received to day\n",
    "            'acc_now_delinq',            # The number of accounts on which the borrower is now delinquent \n",
    "            'debt_ratio',\n",
    "            'current_ratio',\n",
    "            'safe_loans'      \n",
    "           ]"
   ]
  },
  {
   "cell_type": "code",
   "execution_count": 9,
   "metadata": {
    "collapsed": false
   },
   "outputs": [
    {
     "data": {
      "text/plain": [
       "75184"
      ]
     },
     "execution_count": 9,
     "metadata": {},
     "output_type": "execute_result"
    }
   ],
   "source": [
    "#include all bad loans and 60000 good_loans\n",
    "# if I chose a random selection there are very few bad loans\n",
    "good_loans = data[data['safe_loans']==1]\n",
    "bad_loans = data[data['safe_loans']==0]\n",
    "good_loans_subset = good_loans.sample(n=60000)\n",
    "data_clean = pd.concat([good_loans_subset,bad_loans])\n",
    "len(data_clean)"
   ]
  },
  {
   "cell_type": "code",
   "execution_count": 11,
   "metadata": {
    "collapsed": false
   },
   "outputs": [
    {
     "data": {
      "text/plain": [
       "array(['C', 'A', 'B', 'D', 'F', 'E', 'G'], dtype=object)"
      ]
     },
     "execution_count": 11,
     "metadata": {},
     "output_type": "execute_result"
    }
   ],
   "source": [
    "#remove data with N/A\n",
    "data_clean = data_clean[col_subset].dropna()"
   ]
  },
  {
   "cell_type": "code",
   "execution_count": 12,
   "metadata": {
    "collapsed": false
   },
   "outputs": [
    {
     "name": "stdout",
     "output_type": "stream",
     "text": [
      "15175\n",
      "59978\n"
     ]
    }
   ],
   "source": [
    "#data_clean = data_clean.sample(n=100000)\n",
    "print(sum(data_clean['safe_loans']==0))\n",
    "print(sum(data_clean['safe_loans']==1))"
   ]
  },
  {
   "cell_type": "code",
   "execution_count": 13,
   "metadata": {
    "collapsed": false
   },
   "outputs": [
    {
     "data": {
      "text/plain": [
       "19.408858180753676"
      ]
     },
     "execution_count": 13,
     "metadata": {},
     "output_type": "execute_result"
    }
   ],
   "source": [
    "data_clean = data_clean[data_clean['dti']<100]\n",
    "data_clean['dti'].mean()"
   ]
  },
  {
   "cell_type": "code",
   "execution_count": 14,
   "metadata": {
    "collapsed": false
   },
   "outputs": [],
   "source": [
    "data_clean.is_copy=False\n",
    "#Transform term into float\n",
    "data_clean['term'] = data_clean['term'].apply(lambda x : x.split(' ')[1])\n",
    "data_clean['term'] = data_clean['term'].apply(lambda x : float(x) *1.0)"
   ]
  },
  {
   "cell_type": "code",
   "execution_count": 15,
   "metadata": {
    "collapsed": false
   },
   "outputs": [],
   "source": [
    "# Reduce term and dti\n",
    "mamoy = data_clean['term'].mean()\n",
    "data_clean['term'] = data_clean['term'] / mamoy\n",
    "mamoy = data_clean['dti'].mean()\n",
    "data_clean['dti'] = data_clean['dti'] / mamoy"
   ]
  },
  {
   "cell_type": "code",
   "execution_count": 16,
   "metadata": {
    "collapsed": false
   },
   "outputs": [],
   "source": [
    "#Transform revol_util to float\n",
    "data_clean['revol_util'] = data_clean['revol_util'].str.replace('%','')\n",
    "data_clean['revol_util'] = data_clean['revol_util'].apply(lambda x : float(x) * 1.0)\n",
    "data_clean['revol_util'] = data_clean['revol_util']/100.0"
   ]
  },
  {
   "cell_type": "code",
   "execution_count": 17,
   "metadata": {
    "collapsed": false
   },
   "outputs": [
    {
     "data": {
      "text/plain": [
       "array([  3.,   2.,  10.,   6.,   9.,   5.,   8.,   7.,   4.,   1.,   0.])"
      ]
     },
     "execution_count": 17,
     "metadata": {},
     "output_type": "execute_result"
    }
   ],
   "source": [
    "#Transform emp_length to float\n",
    "data_clean['emp_length'] = data_clean['emp_length'].str.replace('< ','0')\n",
    "data_clean['emp_length'] = data_clean['emp_length'].str.replace('n/a','0')\n",
    "data_clean['emp_length'] = data_clean['emp_length'].apply(lambda x : x.split(' ')[0])\n",
    "data_clean['emp_length'] = data_clean['emp_length'].str.replace('+','')\n",
    "data_clean['emp_length'] = data_clean['emp_length'].apply(lambda x : int(x) * 1.0)\n",
    "data_clean.tail()\n",
    "data_clean['emp_length'].unique()"
   ]
  },
  {
   "cell_type": "code",
   "execution_count": 18,
   "metadata": {
    "collapsed": false
   },
   "outputs": [],
   "source": [
    "#Transform grade - can also do the same with sub_grade\n",
    "grade_dict = {'A':0, 'B':1, 'C':2, 'D':3, 'E':4, 'F':5, 'G':6}\n",
    "data_clean['grade'] = data_clean['grade'].apply(lambda x : grade_dict[x])"
   ]
  },
  {
   "cell_type": "code",
   "execution_count": 19,
   "metadata": {
    "collapsed": false
   },
   "outputs": [
    {
     "data": {
      "text/html": [
       "<div>\n",
       "<table border=\"1\" class=\"dataframe\">\n",
       "  <thead>\n",
       "    <tr style=\"text-align: right;\">\n",
       "      <th></th>\n",
       "      <th>grade</th>\n",
       "      <th>sub_grade</th>\n",
       "      <th>emp_length</th>\n",
       "      <th>home_ownership</th>\n",
       "      <th>dti</th>\n",
       "      <th>purpose</th>\n",
       "      <th>term</th>\n",
       "      <th>revol_util</th>\n",
       "      <th>total_rec_late_fee</th>\n",
       "      <th>acc_now_delinq</th>\n",
       "      <th>debt_ratio</th>\n",
       "      <th>current_ratio</th>\n",
       "      <th>safe_loans</th>\n",
       "    </tr>\n",
       "  </thead>\n",
       "  <tbody>\n",
       "    <tr>\n",
       "      <th>421002</th>\n",
       "      <td>5</td>\n",
       "      <td>F2</td>\n",
       "      <td>5.0</td>\n",
       "      <td>MORTGAGE</td>\n",
       "      <td>0.543051</td>\n",
       "      <td>home_improvement</td>\n",
       "      <td>1.359204</td>\n",
       "      <td>0.292</td>\n",
       "      <td>90.6</td>\n",
       "      <td>0</td>\n",
       "      <td>0.200000</td>\n",
       "      <td>1.0</td>\n",
       "      <td>0</td>\n",
       "    </tr>\n",
       "    <tr>\n",
       "      <th>421010</th>\n",
       "      <td>1</td>\n",
       "      <td>B4</td>\n",
       "      <td>10.0</td>\n",
       "      <td>MORTGAGE</td>\n",
       "      <td>1.237064</td>\n",
       "      <td>debt_consolidation</td>\n",
       "      <td>1.359204</td>\n",
       "      <td>0.246</td>\n",
       "      <td>0.0</td>\n",
       "      <td>0</td>\n",
       "      <td>0.144907</td>\n",
       "      <td>1.0</td>\n",
       "      <td>0</td>\n",
       "    </tr>\n",
       "    <tr>\n",
       "      <th>421015</th>\n",
       "      <td>3</td>\n",
       "      <td>D1</td>\n",
       "      <td>1.0</td>\n",
       "      <td>OWN</td>\n",
       "      <td>1.138140</td>\n",
       "      <td>debt_consolidation</td>\n",
       "      <td>1.359204</td>\n",
       "      <td>0.882</td>\n",
       "      <td>0.0</td>\n",
       "      <td>0</td>\n",
       "      <td>0.307018</td>\n",
       "      <td>1.0</td>\n",
       "      <td>0</td>\n",
       "    </tr>\n",
       "    <tr>\n",
       "      <th>421025</th>\n",
       "      <td>4</td>\n",
       "      <td>E5</td>\n",
       "      <td>5.0</td>\n",
       "      <td>MORTGAGE</td>\n",
       "      <td>1.212333</td>\n",
       "      <td>credit_card</td>\n",
       "      <td>1.359204</td>\n",
       "      <td>0.862</td>\n",
       "      <td>0.0</td>\n",
       "      <td>0</td>\n",
       "      <td>0.416667</td>\n",
       "      <td>1.0</td>\n",
       "      <td>0</td>\n",
       "    </tr>\n",
       "    <tr>\n",
       "      <th>421074</th>\n",
       "      <td>3</td>\n",
       "      <td>D2</td>\n",
       "      <td>3.0</td>\n",
       "      <td>RENT</td>\n",
       "      <td>0.271526</td>\n",
       "      <td>debt_consolidation</td>\n",
       "      <td>1.359204</td>\n",
       "      <td>0.924</td>\n",
       "      <td>0.0</td>\n",
       "      <td>0</td>\n",
       "      <td>0.242718</td>\n",
       "      <td>1.0</td>\n",
       "      <td>0</td>\n",
       "    </tr>\n",
       "  </tbody>\n",
       "</table>\n",
       "</div>"
      ],
      "text/plain": [
       "        grade sub_grade  emp_length home_ownership       dti  \\\n",
       "421002      5        F2         5.0       MORTGAGE  0.543051   \n",
       "421010      1        B4        10.0       MORTGAGE  1.237064   \n",
       "421015      3        D1         1.0            OWN  1.138140   \n",
       "421025      4        E5         5.0       MORTGAGE  1.212333   \n",
       "421074      3        D2         3.0           RENT  0.271526   \n",
       "\n",
       "                   purpose      term  revol_util  total_rec_late_fee  \\\n",
       "421002    home_improvement  1.359204       0.292                90.6   \n",
       "421010  debt_consolidation  1.359204       0.246                 0.0   \n",
       "421015  debt_consolidation  1.359204       0.882                 0.0   \n",
       "421025         credit_card  1.359204       0.862                 0.0   \n",
       "421074  debt_consolidation  1.359204       0.924                 0.0   \n",
       "\n",
       "        acc_now_delinq  debt_ratio  current_ratio  safe_loans  \n",
       "421002               0    0.200000            1.0           0  \n",
       "421010               0    0.144907            1.0           0  \n",
       "421015               0    0.307018            1.0           0  \n",
       "421025               0    0.416667            1.0           0  \n",
       "421074               0    0.242718            1.0           0  "
      ]
     },
     "execution_count": 19,
     "metadata": {},
     "output_type": "execute_result"
    }
   ],
   "source": [
    "#show data for information\n",
    "data_clean.tail()"
   ]
  },
  {
   "cell_type": "code",
   "execution_count": 20,
   "metadata": {
    "collapsed": true
   },
   "outputs": [],
   "source": [
    "features = ['grade',                     # grade of the loan\n",
    "            'sub_grade',                 # sub-grade of the loan\n",
    "            'emp_length',                # number of years of employment\n",
    "            'home_ownership',            # home_ownership status: own, mortgage or rent\n",
    "            'dti',                       # debt to income ratio\n",
    "            'purpose',                   # the purpose of the loan\n",
    "            'term',                      # the term of the loan\n",
    "            'revol_util',                # percent of available credit being used\n",
    "            'total_rec_late_fee',        # total late fees received to day\n",
    "            'acc_now_delinq',            # The number of accounts on which the borrower is now delinquent\n",
    "            'debt_ratio',\n",
    "            'current_ratio'\n",
    "           ]\n",
    "\n",
    "LABEL_COLUMN = 'safe_loans'      "
   ]
  },
  {
   "cell_type": "code",
   "execution_count": 21,
   "metadata": {
    "collapsed": false
   },
   "outputs": [],
   "source": [
    "tensor_features = {}\n",
    "CATEGORICAL_COLUMNS = []\n",
    "CONTINUOUS_COLUMNS = []\n",
    "\n",
    "for i in features:\n",
    "    if (data_clean[i].dtype == 'int64') or (data_clean[i].dtype == 'float64'):\n",
    "        CONTINUOUS_COLUMNS.append(i) \n",
    "        tensor_features[i] = tf.contrib.layers.real_valued_column(i)\n",
    "    else:\n",
    "        CATEGORICAL_COLUMNS.append(i)\n",
    "        tensor_features[i] = tf.contrib.layers.sparse_column_with_keys(\n",
    "                              column_name=i, keys=list(data[i].unique()), combiner=\"sqrtn\")"
   ]
  },
  {
   "cell_type": "code",
   "execution_count": 22,
   "metadata": {
    "collapsed": false
   },
   "outputs": [
    {
     "data": {
      "text/plain": [
       "['sub_grade', 'home_ownership', 'purpose']"
      ]
     },
     "execution_count": 22,
     "metadata": {},
     "output_type": "execute_result"
    }
   ],
   "source": [
    "CATEGORICAL_COLUMNS"
   ]
  },
  {
   "cell_type": "code",
   "execution_count": 23,
   "metadata": {
    "collapsed": true
   },
   "outputs": [],
   "source": [
    "deep_columns = [tf.contrib.layers.embedding_column(tensor_features['sub_grade'], dimension=35),\n",
    "                tf.contrib.layers.embedding_column(tensor_features['purpose'], dimension=12),\n",
    "                tf.contrib.layers.embedding_column(tensor_features['home_ownership'], dimension=4)\n",
    "               ]"
   ]
  },
  {
   "cell_type": "code",
   "execution_count": 24,
   "metadata": {
    "collapsed": false
   },
   "outputs": [
    {
     "data": {
      "text/plain": [
       "['grade',\n",
       " 'emp_length',\n",
       " 'dti',\n",
       " 'term',\n",
       " 'revol_util',\n",
       " 'total_rec_late_fee',\n",
       " 'acc_now_delinq',\n",
       " 'debt_ratio',\n",
       " 'current_ratio']"
      ]
     },
     "execution_count": 24,
     "metadata": {},
     "output_type": "execute_result"
    }
   ],
   "source": [
    "CONTINUOUS_COLUMNS"
   ]
  },
  {
   "cell_type": "code",
   "execution_count": 25,
   "metadata": {
    "collapsed": false
   },
   "outputs": [],
   "source": [
    "wide_columns = [tensor_features['emp_length'],\n",
    "                tensor_features['dti'], \n",
    "                tensor_features['term'],                 \n",
    "                tensor_features['revol_util'], \n",
    "                tensor_features['total_rec_late_fee'],\n",
    "                tensor_features['acc_now_delinq'],\n",
    "                tensor_features['debt_ratio'],\n",
    "                tensor_features['current_ratio']]"
   ]
  },
  {
   "cell_type": "code",
   "execution_count": 26,
   "metadata": {
    "collapsed": true
   },
   "outputs": [],
   "source": [
    "def merge_two_dicts(x, y):\n",
    "    z = {}\n",
    "    z.update(x)\n",
    "    z.update(y)\n",
    "    return z\n",
    "\n",
    "\n",
    "def input_fn(df):\n",
    "    # Creates a dictionary mapping from each continuous feature column name (k) to\n",
    "    # the values of that column stored in a constant Tensor.\n",
    "    continuous_cols = {k: tf.constant(df[k].values)\n",
    "                       for k in CONTINUOUS_COLUMNS}\n",
    "    # Creates a dictionary mapping from each categorical feature column name (k)\n",
    "    # to the values of that column stored in a tf.SparseTensor.\n",
    "    categorical_cols = {k: tf.SparseTensor(\n",
    "        indices=[[i, 0] for i in range(df[k].size)],\n",
    "        values=df[k].values,\n",
    "        dense_shape=[df[k].size, 1])\n",
    "                        for k in CATEGORICAL_COLUMNS}\n",
    "    # Merges the two dictionaries into one.\n",
    "    #feature_cols = dict(continuous_cols.items() + categorical_cols.items())\n",
    "    feature_cols = merge_two_dicts(continuous_cols.items(), categorical_cols.items())\n",
    "    # Converts the label column into a constant Tensor.\n",
    "    label = tf.constant(df[LABEL_COLUMN].values)\n",
    "    # Returns the feature columns and the label.\n",
    "    return feature_cols, label\n",
    "\n",
    "def train_input_fn():\n",
    "    return input_fn(training_set)\n",
    "\n",
    "def eval_input_fn():\n",
    "    return input_fn(test_set)"
   ]
  },
  {
   "cell_type": "code",
   "execution_count": 27,
   "metadata": {
    "collapsed": true
   },
   "outputs": [],
   "source": [
    "training_set, test_set = train_test_split(data_clean, test_size = 0.2)"
   ]
  },
  {
   "cell_type": "code",
   "execution_count": 28,
   "metadata": {
    "collapsed": false
   },
   "outputs": [],
   "source": [
    "import tempfile\n",
    "model_dir = tempfile.mkdtemp()\n",
    "model = tf.contrib.learn.DNNLinearCombinedClassifier(\n",
    "    model_dir=model_dir,\n",
    "    linear_feature_columns=wide_columns,\n",
    "    dnn_feature_columns=deep_columns,\n",
    "    dnn_hidden_units=[20, 30, 20],\n",
    "    dnn_optimizer=tf.train.ProximalAdagradOptimizer(learning_rate=0.001,\n",
    "    l1_regularization_strength=0.001,\n",
    "    l2_regularization_strength=0.001))"
   ]
  },
  {
   "cell_type": "code",
   "execution_count": 29,
   "metadata": {
    "collapsed": false
   },
   "outputs": [
    {
     "name": "stdout",
     "output_type": "stream",
     "text": [
      "2017-04-02 18:16:42.026308\n",
      "2017-04-02 18:25:21.910603\n"
     ]
    }
   ],
   "source": [
    "import datetime\n",
    "print(datetime.datetime.now())\n",
    "model.fit(input_fn=train_input_fn, steps=5000)\n",
    "print(datetime.datetime.now())"
   ]
  },
  {
   "cell_type": "code",
   "execution_count": 30,
   "metadata": {
    "collapsed": false
   },
   "outputs": [
    {
     "name": "stdout",
     "output_type": "stream",
     "text": [
      "accuracy: 0.739937\n",
      "accuracy/baseline_label_mean: 0.804404\n",
      "accuracy/threshold_0.500000_mean: 0.739937\n",
      "auc: 0.577493\n",
      "global_step: 5002\n",
      "labels/actual_label_mean: 0.804404\n",
      "labels/prediction_mean: 0.812532\n",
      "loss: 0.760423\n",
      "precision/positive_threshold_0.500000_mean: 0.81723\n",
      "recall/positive_threshold_0.500000_mean: 0.87164\n"
     ]
    }
   ],
   "source": [
    "results = model.evaluate(input_fn=eval_input_fn, steps=1)\n",
    "for key in sorted(results):\n",
    "    print(\"%s: %s\" % (key, results[key]))"
   ]
  },
  {
   "cell_type": "code",
   "execution_count": 31,
   "metadata": {
    "collapsed": true
   },
   "outputs": [],
   "source": [
    "pred_labels = model.predict(input_fn=eval_input_fn, as_iterable=False)"
   ]
  },
  {
   "cell_type": "code",
   "execution_count": 32,
   "metadata": {
    "collapsed": false
   },
   "outputs": [
    {
     "data": {
      "text/plain": [
       "array([1, 0, 1, ..., 1, 1, 1])"
      ]
     },
     "execution_count": 32,
     "metadata": {},
     "output_type": "execute_result"
    }
   ],
   "source": [
    "pred_labels"
   ]
  },
  {
   "cell_type": "code",
   "execution_count": 33,
   "metadata": {
    "collapsed": false
   },
   "outputs": [
    {
     "name": "stdout",
     "output_type": "stream",
     "text": [
      "2135\n",
      "12896\n"
     ]
    }
   ],
   "source": [
    "print(sum(pred_labels==0))\n",
    "print(sum(pred_labels==1))"
   ]
  },
  {
   "cell_type": "code",
   "execution_count": 34,
   "metadata": {
    "collapsed": true
   },
   "outputs": [],
   "source": [
    "true_labels = np.array(test_set['safe_loans']).astype(int)\n",
    "pred_labels = np.array(pred_labels).astype(int)"
   ]
  },
  {
   "cell_type": "code",
   "execution_count": 35,
   "metadata": {
    "collapsed": false
   },
   "outputs": [
    {
     "name": "stdout",
     "output_type": "stream",
     "text": [
      "True Positive:  10539\n",
      "False Positive:  2357\n",
      "True Negative:  583\n",
      "False Negative:  1552\n"
     ]
    }
   ],
   "source": [
    "true_positive = sum((pred_labels == 1) & (true_labels == 1)) \n",
    "true_negative = sum((pred_labels == 0) & (true_labels == 0))\n",
    "false_positive = sum((pred_labels == 1) & (true_labels == 0))\n",
    "false_negative = sum((pred_labels == 0) & (true_labels == 1))\n",
    "print('True Positive: ',true_positive)\n",
    "print('False Positive: ',false_positive)\n",
    "print('True Negative: ',true_negative)\n",
    "print('False Negative: ',false_negative)"
   ]
  },
  {
   "cell_type": "markdown",
   "metadata": {},
   "source": [
    "Too many False positive and False Negatives\n",
    "Model is not efficient"
   ]
  }
 ],
 "metadata": {
  "kernelspec": {
   "display_name": "Python 3",
   "language": "python",
   "name": "python3"
  },
  "language_info": {
   "codemirror_mode": {
    "name": "ipython",
    "version": 3
   },
   "file_extension": ".py",
   "mimetype": "text/x-python",
   "name": "python",
   "nbconvert_exporter": "python",
   "pygments_lexer": "ipython3",
   "version": "3.4.5"
  }
 },
 "nbformat": 4,
 "nbformat_minor": 2
}
